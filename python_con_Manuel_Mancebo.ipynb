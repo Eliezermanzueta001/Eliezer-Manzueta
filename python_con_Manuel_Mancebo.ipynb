{
  "nbformat": 4,
  "nbformat_minor": 0,
  "metadata": {
    "colab": {
      "provenance": [],
      "authorship_tag": "ABX9TyP0/4PsRmFwpazR9Hj+rDmA",
      "include_colab_link": true
    },
    "kernelspec": {
      "name": "python3",
      "display_name": "Python 3"
    },
    "language_info": {
      "name": "python"
    }
  },
  "cells": [
    {
      "cell_type": "markdown",
      "metadata": {
        "id": "view-in-github",
        "colab_type": "text"
      },
      "source": [
        "<a href=\"https://colab.research.google.com/github/Eliezermanzueta001/Eliezer-Manzueta/blob/main/python_con_Manuel_Mancebo.ipynb\" target=\"_parent\"><img src=\"https://colab.research.google.com/assets/colab-badge.svg\" alt=\"Open In Colab\"/></a>"
      ]
    },
    {
      "cell_type": "code",
      "execution_count": 1,
      "metadata": {
        "id": "W_Rquhm8AviK",
        "colab": {
          "base_uri": "https://localhost:8080/"
        },
        "outputId": "39788da0-294e-4a1a-9fd7-458cb465f5b3"
      },
      "outputs": [
        {
          "output_type": "stream",
          "name": "stdout",
          "text": [
            "Python 3.11.11\n"
          ]
        }
      ],
      "source": [
        "!python --version"
      ]
    },
    {
      "cell_type": "markdown",
      "source": [
        "#Mis preimeras listas en python\n",
        "Ejercicio 1"
      ],
      "metadata": {
        "id": "Bidr3VrDk_9B"
      }
    },
    {
      "cell_type": "code",
      "source": [
        "!pip install seaborn\n"
      ],
      "metadata": {
        "colab": {
          "base_uri": "https://localhost:8080/"
        },
        "id": "ainwQDRrljo_",
        "outputId": "8c058a7c-bce9-4b8e-8d51-2a5eea9f301f"
      },
      "execution_count": 2,
      "outputs": [
        {
          "output_type": "stream",
          "name": "stdout",
          "text": [
            "Requirement already satisfied: seaborn in /usr/local/lib/python3.11/dist-packages (0.13.2)\n",
            "Requirement already satisfied: numpy!=1.24.0,>=1.20 in /usr/local/lib/python3.11/dist-packages (from seaborn) (1.26.4)\n",
            "Requirement already satisfied: pandas>=1.2 in /usr/local/lib/python3.11/dist-packages (from seaborn) (2.2.2)\n",
            "Requirement already satisfied: matplotlib!=3.6.1,>=3.4 in /usr/local/lib/python3.11/dist-packages (from seaborn) (3.10.0)\n",
            "Requirement already satisfied: contourpy>=1.0.1 in /usr/local/lib/python3.11/dist-packages (from matplotlib!=3.6.1,>=3.4->seaborn) (1.3.1)\n",
            "Requirement already satisfied: cycler>=0.10 in /usr/local/lib/python3.11/dist-packages (from matplotlib!=3.6.1,>=3.4->seaborn) (0.12.1)\n",
            "Requirement already satisfied: fonttools>=4.22.0 in /usr/local/lib/python3.11/dist-packages (from matplotlib!=3.6.1,>=3.4->seaborn) (4.55.7)\n",
            "Requirement already satisfied: kiwisolver>=1.3.1 in /usr/local/lib/python3.11/dist-packages (from matplotlib!=3.6.1,>=3.4->seaborn) (1.4.8)\n",
            "Requirement already satisfied: packaging>=20.0 in /usr/local/lib/python3.11/dist-packages (from matplotlib!=3.6.1,>=3.4->seaborn) (24.2)\n",
            "Requirement already satisfied: pillow>=8 in /usr/local/lib/python3.11/dist-packages (from matplotlib!=3.6.1,>=3.4->seaborn) (11.1.0)\n",
            "Requirement already satisfied: pyparsing>=2.3.1 in /usr/local/lib/python3.11/dist-packages (from matplotlib!=3.6.1,>=3.4->seaborn) (3.2.1)\n",
            "Requirement already satisfied: python-dateutil>=2.7 in /usr/local/lib/python3.11/dist-packages (from matplotlib!=3.6.1,>=3.4->seaborn) (2.8.2)\n",
            "Requirement already satisfied: pytz>=2020.1 in /usr/local/lib/python3.11/dist-packages (from pandas>=1.2->seaborn) (2024.2)\n",
            "Requirement already satisfied: tzdata>=2022.7 in /usr/local/lib/python3.11/dist-packages (from pandas>=1.2->seaborn) (2025.1)\n",
            "Requirement already satisfied: six>=1.5 in /usr/local/lib/python3.11/dist-packages (from python-dateutil>=2.7->matplotlib!=3.6.1,>=3.4->seaborn) (1.17.0)\n"
          ]
        }
      ]
    },
    {
      "cell_type": "code",
      "source": [
        "frutas = [\"manzana\", \"banana\", \"cereza\"]\n"
      ],
      "metadata": {
        "id": "w29SJYhdmHk_"
      },
      "execution_count": 4,
      "outputs": []
    },
    {
      "cell_type": "code",
      "source": [
        "print(frutas[0],frutas[2])"
      ],
      "metadata": {
        "colab": {
          "base_uri": "https://localhost:8080/"
        },
        "id": "niCEfRZHmyVX",
        "outputId": "98ffebc1-2cb1-48e5-902d-908808d47c78"
      },
      "execution_count": 7,
      "outputs": [
        {
          "output_type": "stream",
          "name": "stdout",
          "text": [
            "manzana cereza\n"
          ]
        }
      ]
    },
    {
      "cell_type": "code",
      "source": [
        "frutas[0] = \"naranja\"\n",
        "print(frutas)"
      ],
      "metadata": {
        "colab": {
          "base_uri": "https://localhost:8080/"
        },
        "id": "wGSOwSUBm71f",
        "outputId": "938c68fe-06ba-4e11-894e-e1e3141322be"
      },
      "execution_count": 8,
      "outputs": [
        {
          "output_type": "stream",
          "name": "stdout",
          "text": [
            "['naranja', 'banana', 'cereza']\n"
          ]
        }
      ]
    },
    {
      "cell_type": "code",
      "source": [
        "\n",
        "Estudiantes = [{\"nombre\":\"Eliezer\", \"edad\":18, \"grado\":\"informatico\"},\n",
        "{\"nombre\":\"Juan\", \"edad\":19, \"grado\":\"informatico\"},\n",
        "{\"nombre\":\"Pedro\", \"edad\":15, \"grado\":\"informatico\"},\n",
        "{\"nombre\":\"Georgina\", \"edad\":21, \"grado\":\"informatico\"},\n",
        "{\"nombre\":\"Yanelis\", \"edad\":19, \"grado\":\"informatico\"}]"
      ],
      "metadata": {
        "id": "zrL_zC9coaKn"
      },
      "execution_count": 18,
      "outputs": []
    },
    {
      "cell_type": "code",
      "source": [
        "print(Estudiantes[3][\"edad\"])"
      ],
      "metadata": {
        "colab": {
          "base_uri": "https://localhost:8080/"
        },
        "id": "knm5uIMjrVE2",
        "outputId": "3e2cb8ad-60be-41d3-dc06-0c8ab0a77e1f"
      },
      "execution_count": 19,
      "outputs": [
        {
          "output_type": "stream",
          "name": "stdout",
          "text": [
            "21\n"
          ]
        }
      ]
    },
    {
      "cell_type": "code",
      "source": [
        "print(Estudiantes)"
      ],
      "metadata": {
        "colab": {
          "base_uri": "https://localhost:8080/"
        },
        "id": "N2heFlFFrflG",
        "outputId": "7d0ceece-f43f-470f-f547-e60973454bc1"
      },
      "execution_count": 20,
      "outputs": [
        {
          "output_type": "stream",
          "name": "stdout",
          "text": [
            "[{'nombre': 'Eliezer', 'edad': 18, 'grado': 'informatico'}, {'nombre': 'Juan', 'edad': 19, 'grado': 'informatico'}, {'nombre': 'Pedro', 'edad': 15, 'grado': 'informatico'}, {'nombre': 'Georgina', 'edad': 21, 'grado': 'informatico'}, {'nombre': 'Yanelis', 'edad': 19, 'grado': 'informatico'}]\n"
          ]
        }
      ]
    },
    {
      "cell_type": "code",
      "source": [
        "for Estudiantes in Estudiantes:\n",
        "print(f\"{Estudiantes['nombre']}Trajo pizza\")"
      ],
      "metadata": {
        "colab": {
          "base_uri": "https://localhost:8080/",
          "height": 106
        },
        "id": "UjV9_6u2rnHO",
        "outputId": "d16c12b8-a965-4401-f862-e42b79b0ab73"
      },
      "execution_count": 28,
      "outputs": [
        {
          "output_type": "error",
          "ename": "IndentationError",
          "evalue": "expected an indented block after 'for' statement on line 1 (<ipython-input-28-f1f2c3984bae>, line 2)",
          "traceback": [
            "\u001b[0;36m  File \u001b[0;32m\"<ipython-input-28-f1f2c3984bae>\"\u001b[0;36m, line \u001b[0;32m2\u001b[0m\n\u001b[0;31m    print(for\"{Estudiantes['nombre']}Trajo pizza\")\u001b[0m\n\u001b[0m    ^\u001b[0m\n\u001b[0;31mIndentationError\u001b[0m\u001b[0;31m:\u001b[0m expected an indented block after 'for' statement on line 1\n"
          ]
        }
      ]
    },
    {
      "cell_type": "code",
      "source": [
        "print(Estudiantes[\"nombre\"])\n",
        "print(Estudiantes[\"edad\"])\n",
        "print(Estudiantes[\"grado\"])"
      ],
      "metadata": {
        "colab": {
          "base_uri": "https://localhost:8080/"
        },
        "id": "uwN8qJ-opM52",
        "outputId": "be4b5108-cd17-45ba-b820-c01f555e3ce5"
      },
      "execution_count": 11,
      "outputs": [
        {
          "output_type": "stream",
          "name": "stdout",
          "text": [
            "Eliezer\n",
            "18\n",
            "informatico\n"
          ]
        }
      ]
    },
    {
      "cell_type": "code",
      "source": [
        "print(Estudiantes)"
      ],
      "metadata": {
        "colab": {
          "base_uri": "https://localhost:8080/"
        },
        "id": "v5b5yxiMqLZ2",
        "outputId": "dae6f141-d8ea-4f13-d7b5-c3cf8fe44cca"
      },
      "execution_count": 12,
      "outputs": [
        {
          "output_type": "stream",
          "name": "stdout",
          "text": [
            "{'nombre': 'Eliezer', 'edad': 18, 'grado': 'informatico'}\n"
          ]
        }
      ]
    },
    {
      "cell_type": "code",
      "source": [],
      "metadata": {
        "id": "J1P7HxYWqNa-"
      },
      "execution_count": null,
      "outputs": []
    }
  ]
}